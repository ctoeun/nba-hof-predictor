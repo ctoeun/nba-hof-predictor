{
 "cells": [
  {
   "cell_type": "markdown",
   "id": "e86e0eeb",
   "metadata": {},
   "source": [
    "# NBA Hall of Fame or Ball of Lame (First Milestone)\n",
    "Name: Cobi Toeun <br>\n",
    "Email: u1230512@utah.edu -- cobitoeun@gmail.com <br>\n",
    "UID: u1230512 <br>"
   ]
  },
  {
   "cell_type": "markdown",
   "id": "1c042cf2",
   "metadata": {},
   "source": [
    "# Project Description:\n",
    "\n",
    "What makes an NBA player one of the best in a season? What makes an NBA player one of the greatest in league history? <br>\n",
    "\n",
    "To answer this question, I am going to web scrape, using *python*, the stats of current (2021-2022 season) NBA players and predict their qualifications and probability as a future NBA Hall of Famer. \n",
    "<br>\n",
    "\n",
    "To determine which players would be considered as an all time great, I am going to look at previous Hall of Famers:\n",
    "\n",
    "- The *Hall of Fame* honors players who have shown exceptional skill at basketball, all-time great coaches, referees, and other major contributors to the sport. A player or staff member can be considered a hall of famer for many different reasons; however, I would like to determine an NBA players chances through stats, awards, and accomplishments.\n"
   ]
  },
  {
   "cell_type": "markdown",
   "id": "74b21bbb",
   "metadata": {},
   "source": [
    "# Project Objectives:\n",
    "**Questions to consider:**\n",
    "\n",
    "- What makes a player likely to be inducted into the hall of fame?\n",
    "- Do championships alone determine a players greatness, or can a player be considered an all-time great without a championship?\n",
    "- Can a players Hall of Fame chances increase or decrease after each season?\n",
    "- What are the most common variables among current hall of famers? Which provide the strongest correlations?\n",
    "- Can I create a model and algorithm to predict whether a player is likely to be chosen as a hall of famer based only on current stats?\n",
    "\n",
    "**Benefits (What to learn and accomplish):**\n",
    "\n",
    "- Use python libraries, including dataframes, beautifulsoup, mathplotlib, etc, to gather and express results scraped from [Basketball-Reference.com](https://www.basketball-reference.com/).\n",
    "- Gain better knowledge on python web scraping and determining what methods are best used in certain scenarios.\n",
    "- Find the bare minimum requirements to qualify as a Hall of Famer.\n",
    "- Create a model and algorithm to predict a players chance of being a hall of famer, based on current hall of famers."
   ]
  },
  {
   "cell_type": "markdown",
   "id": "f9a6efd2",
   "metadata": {},
   "source": [
    "# Data Description:\n",
    "All data has been web scraped from [Basketball-Reference.com](https://www.basketball-reference.com/).\n",
    "To prevent web page overload, I have downloaded every page I need to complete analysis and predictions. Each page can be found in the *Webpages* folder.\n",
    "<br>\n",
    "\n",
    "**Before computing Hall of Fame predictions, this is the data to search and extract:**\n",
    "- Career points, rebounds, assists, blocks, and steals (per game and percentage)\n",
    "- Averages (FG%, eFG%, FG3%, FT%, PER, WS)\n",
    "- All-stars, MVPs, Championships, DPOYs, All-NBA, etc. (awards and accomplishments)\n",
    "<br>\n",
    "\n",
    "**Here is an example of Michael Jordan's career stats and accomplishments:**\n",
    "![mj_stats](images/mj_stats.png)\n",
    "<br>\n",
    "\n",
    "Using my browers built-in inspect function, I can extract MJ's awards using BeautifulSoup and a custom function: <br>\n",
    "![image-4.png](images/inspect_stats.png)\n",
    "\n",
    "After categorizing all the data extracted, I have converted each dataframe to a csv file so I wouldn't have to re-run the code each time I want to access it. CSV files can be accessed in *csv_files* folder. <br><br>\n",
    "\n",
    "**All acquired and cleaned data will be present in *WebScraping-DataCleaning.ipynb***\n",
    "\n",
    "<br>\n",
    "\n",
    "**Webscraped data have been extracted from these pages:**\n",
    "- [Basketball-Reference Homepage](https://www.basketball-reference.com/)\n",
    "- [NBA Player Directory](https://www.basketball-reference.com/players/)\n",
    "- [Michael Jordan Career Stats](https://www.basketball-reference.com/players/j/jordami01.html) (we'll use MJ's page as an example, but I've scraped from all NBA players)"
   ]
  },
  {
   "cell_type": "markdown",
   "id": "967d7023",
   "metadata": {},
   "source": [
    "# Ethical Consideration:\n",
    "**Legal Issues?:** <br>\n",
    "\n",
    "Web scraping is legal if you scrape data publicly available on the internet. But some kinds of data are protected by international regulations, so we have to be careful scraping personal data, intellectual property, or confidential data. <br>\n",
    "\n",
    "Though, some sites are likely to ban you if you scrape a site too much or too quickly. So far, I haven't had any problems with Basketball-Reference. To be safe, downloading the webpages are the best bet if you are trying to scrape large amounts of data. <br> <br>\n",
    "\n",
    "**According to [clause 5](https://www.sports-reference.com/termsofuse.html) of Sports Reference:**\n",
    "\n",
    "- Subject to the terms of this Agreement, you are granted a limited, personal, non-exclusive, non-sublicensable, non-assignable, non-transferable, and revocable license to access and use the Site and Content.\n",
    "- This means that you should not create websites or tools based on data you scrape from Sports Reference or any of our sites.\n",
    "- **Ultimately, I am granted to web scrap this website only for personal use and won't use my findings or tools to sell any information, or to create a personal website.** <br>\n",
    "\n",
    "My project won’t harm the website in any way. More information on data usage can be found [here](https://www.sports-reference.com/data_use.html)"
   ]
  },
  {
   "cell_type": "markdown",
   "id": "55dea942",
   "metadata": {},
   "source": [
    "# Methods:\n",
    "**Methods:**\n",
    "- Web scraping (scrape using beautiful soup)\n",
    "- Regex (regular expressions)\n",
    "- String formatting (format string so I'll be able to extract mutiple different links)\n",
    "- Loops and Conditional Statements (used in custom functions)\n",
    "- Algorithms and Data Structures (use dictionaries, sets, lists to store data) (algorithms for extraction)\n",
    "- Dataframes and CSV files (store extracted data as a table) (csv to use through analysis)\n",
    "- Regression, SVM Models, Decision Trees (predict accuracy of model) (use model to give probability of hof chances)\n",
    "\n",
    "**Data Visualizations:**\n",
    "- Correlation Matrix (Check which variables best correlate with current Hall of Fame players)\n",
    "- Heat Maps (Visualize correlation matrix)\n",
    "- Scatter Plot Matrices\n",
    "- Graphs (Line, Bar, Plot) (showcase stats, awards among hof and non-hof players)\n",
    "<br> <br>\n",
    "\n",
    "**More description of methods and visualizations are explained in *results* section.** <br> <br>\n",
    "\n",
    "### Here are some examples of methods and visualizations I have used:\n",
    "\n",
    "![code](images/code.png)\n",
    "\n",
    "![dataframe](images/dataframe.png)\n",
    "\n",
    "![image-4.png](images/corr_graph.png)\n",
    "\n",
    "![image.png](images/heatmap.png)"
   ]
  },
  {
   "cell_type": "markdown",
   "id": "81ee5879",
   "metadata": {},
   "source": [
    "# Preliminary Results and Upcoming Milestones:\n",
    "**Steps Completed:**\n",
    "- **Setup notebooks and directories:**\n",
    "    - I have used a custom function and the os library to create directories so I can store downloaded webpages and csv files. Webpages are stored in *Webpages/* and csv file are store in *csv_files/*. <br>\n",
    "- **Downloaded webpages:**\n",
    "    - So I don't have to continuously overload Basketball-Reference, I have downloaded all the pages I need and stored them in the *Webpages/* folder. All individual player pages are in Webpages/Player Director/{}-players ({} being their last initial). <br>\n",
    "- Written algorithms to extract data:\n",
    "    - To prevent from manually gathering the data I need, I have written a few algorithms to extract elements from HTML. Each algorithm is a function and runs optimally. I will later optimise the code since it takes a while to scrape, but that will come after I have finished data analysis. <br>\n",
    "- **Web scrape and cleaned data:**\n",
    "    - Using the pages I have downloaded, I have used my algorithms (as stated above) to extract necessary data. Once the data has been extracted, I have stored them into a dataframe. From there, I have gone ahead and cleaned unecessary information using pandas. <br>\n",
    "- Converted dataframes to csv files (stored csv files to folder):\n",
    "    - So you and I wouldn't have to re-run my web scraping algorithms, I have converted each dataframe to a csv file. Each csv file is stored in the *csv_files/* folder. So far, I have a csv file for all_players, retired_players, hof_players, and active_players. I am likely to add more in the future. <br>\n",
    "- Started with Data Analysis:\n",
    "    - After create each csv file, I have started trying to determine the best stats and awards that highly correlate with hall of fame status. Along with that, I have used the describe function to determine the minimum qualifications for hall of famers. More things to be added are stated below. <br>\n",
    "<br>\n",
    "\n",
    "**Steps To Complete:**\n",
    "- Find bare mimumum to qualify for hof:\n",
    "    - Using the describe function, I am going to check what the minimum stats for current hofs. If current active players, or retired non-hofs meet the requirement, they are placed into eligible. The same if they don't meet it, they will be ineligible. <br>\n",
    "- Create data visualizations to present findings:\n",
    "    - I will use bar and scatter plots to showcase my findings for average seasons played for hof and retired players. The visual addition will make it easier to determine requirements. Along with plots, I want to add more heat maps and matrices to showcase correlations. <br>\n",
    "- Create predictive models using regression, svm, or decision trees (k-means probably):\n",
    "    - Like the homework, I am going to add regression, svm, and decision tree models to help predict probabilities/chances of being inducted as a hof. From these methods, I will determine the which method give the best accuracy and I will use it to predict. Findings will be showcased through data visualizations. <br>\n",
    "- Write screen-cast script:\n",
    "    - To keep things organized, once I am finished with writing the code and implementing data analysis and machine learning, I am going to write a short script for the video. I will closely follow this script when giving a voice over. <br>\n",
    "- Record and edit video:\n",
    "    - Once the script is finished, I will then record the video from my PC. If I have enough time, I will try to make to make the video interesting and add elements when editing. Rather than having a boring descriptive video, I would like to add game highlights or interviews so the viewer can have a good time. (video will be around 2-3 minutes) <br>\n",
    "- Format and Submission:\n",
    "    - Before submission, I will run all programs and reformat any files as necessary."
   ]
  },
  {
   "cell_type": "markdown",
   "id": "b492c99f",
   "metadata": {},
   "source": [
    "# Peer Feedback:\n",
    "**Group providing feeback:**<br>\n",
    "Hate Crime Data Analysis: *Marni Epstein, Aaron Tang, (third member not present)*\n",
    "<br><br>\n",
    "**Suggestions and feedback:** <Br>\n",
    "- **New title:** NBA Hall of Fame or Ball of Lame <br> \n",
    "    - Be more descriptive on what I am gather data for. Is it for the MLB or NFL Hall of Fame? Adding *NBA* to (NBA) Hall of Fame or Ball of Lame makes it easier to understand that I working on data that relates to the NBA.\n",
    "\n",
    "- **Methods to add:** Consider predictive models; Decision tree and classification model <br>\n",
    "    - I am going to manually decide what factors play in qualifying players for the hof, and give points based on average stats and achievements. However, to add machine learning and making it easier for me to find probabilities, I was recommended to include predictive models so the computer can compute calculations for me.\n",
    "    \n",
    "The feedback that I was given was very brief but helpful. Both peers asked me great questions in regard to how I was going to scrap and present the data. Since I am doing this project alone, it was nice to have suggestions since, unlike other groups, I wouldn't go through of process of discussing solutions or debating."
   ]
  },
  {
   "cell_type": "markdown",
   "id": "6a2d32cd",
   "metadata": {},
   "source": [
    "# Project Summary:\n",
    "The main idea is to web scrap the stats of current (2021-2022 season) NBA players and determine if they qualify as a future hall of famer. A player or staff member can be considered a hall of famer for many different reasons; however, I would like to determine a players chances through stats, awards, and accomplishments.\n",
    "\n",
    "This project would challenge me in creating an algorithm and predictive model to find certain stats and awards that would guarantee a spot in the hall of fame. Just because a player has 10 championships doesn’t mean they are an all-time great. They could be a benchwarmer and only average 1 point per game with only 5 minutes. This is an idea that I'd love to research and explore.\n",
    "\n",
    "[Basketball-Reference.com](https://www.basketball-reference.com/) is a great site to view current and old players stats, awards, and accomplishments. All data is clean and easy to navigate which is helpful for me.\n",
    "<br>\n",
    "\n",
    "**Project Summary (Milestones):**\n",
    "- Web scrape and extract data I need to complete predictions\n",
    "- I can get an overview of the data using the provided describe function.\n",
    "- To visualize the data, I will create various graphs to determine total numbers of teams, players, and hall of famers\n",
    "- From there I can compute the correlation matrix, visualize it with a heat map to determine which variables strongly correlate to a hall of famer.\n",
    "- To further my analysis, I can visualize the correlations by making a scatterplot matrix.\n",
    "- Overall, I will interpret what I see through various descriptions.\n",
    "- After gathering all the data and analyzing, I can go ahead and answer all the questions I have asked and finalize with a conclusion."
   ]
  },
  {
   "cell_type": "markdown",
   "id": "c0bb7989",
   "metadata": {},
   "source": [
    "# Assessment : On track? (**Y**/N)\n",
    "Yes, this project is on track and I plan to complete data analysis and predictions in the next week or two. The script and video should be edited and completed right after and should take nearly two days."
   ]
  }
 ],
 "metadata": {
  "kernelspec": {
   "display_name": "Python 3 (ipykernel)",
   "language": "python",
   "name": "python3"
  },
  "language_info": {
   "codemirror_mode": {
    "name": "ipython",
    "version": 3
   },
   "file_extension": ".py",
   "mimetype": "text/x-python",
   "name": "python",
   "nbconvert_exporter": "python",
   "pygments_lexer": "ipython3",
   "version": "3.9.7"
  }
 },
 "nbformat": 4,
 "nbformat_minor": 5
}
